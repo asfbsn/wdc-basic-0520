{
 "cells": [
  {
   "cell_type": "code",
   "execution_count": 1,
   "metadata": {},
   "outputs": [],
   "source": [
    "# Ask the user to enter a string. Report to the user:\n",
    "# - The number of digits (0-9)\n",
    "# - The number of vowels\n",
    "# - The number of other characters \n"
   ]
  },
  {
   "cell_type": "code",
   "execution_count": 2,
   "metadata": {},
   "outputs": [
    {
     "name": "stdout",
     "output_type": "stream",
     "text": [
      "Enter a string: this is a test!\n",
      "t\n",
      "h\n",
      "i\n",
      "s\n",
      " \n",
      "i\n",
      "s\n",
      " \n",
      "a\n",
      " \n",
      "t\n",
      "e\n",
      "s\n",
      "t\n",
      "!\n"
     ]
    }
   ],
   "source": [
    "digit_count = 0\n",
    "vowel_count = 0\n",
    "other_count = 0\n",
    "\n",
    "s = raw_input(\"Enter a string: \").strip()    # in Python 3, use \"input\" not \"raw_input\"\n",
    "\n",
    "for one_character in s:\n",
    "    if one_character.isdigit():\n",
    "        "
   ]
  },
  {
   "cell_type": "code",
   "execution_count": null,
   "metadata": {},
   "outputs": [],
   "source": [
    "for one_thing in big_thing:\n",
    "    print(one_thing)"
   ]
  }
 ],
 "metadata": {
  "kernelspec": {
   "display_name": "Python 2",
   "language": "python",
   "name": "python2"
  },
  "language_info": {
   "codemirror_mode": {
    "name": "ipython",
    "version": 2
   },
   "file_extension": ".py",
   "mimetype": "text/x-python",
   "name": "python",
   "nbconvert_exporter": "python",
   "pygments_lexer": "ipython2",
   "version": "2.7.16"
  }
 },
 "nbformat": 4,
 "nbformat_minor": 2
}
