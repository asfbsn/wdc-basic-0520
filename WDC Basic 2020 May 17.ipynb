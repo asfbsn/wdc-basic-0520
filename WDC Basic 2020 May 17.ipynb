{
 "cells": [
  {
   "cell_type": "code",
   "execution_count": 1,
   "metadata": {},
   "outputs": [],
   "source": [
    "# Ask the user to enter a string. Report to the user:\n",
    "# - The number of digits (0-9)\n",
    "# - The number of vowels\n",
    "# - The number of other characters \n"
   ]
  },
  {
   "cell_type": "code",
   "execution_count": 3,
   "metadata": {},
   "outputs": [
    {
     "name": "stdout",
     "output_type": "stream",
     "text": [
      "Enter a string: today is the 17th of May!\n",
      "digits 2, vowels 6, other 17\n"
     ]
    }
   ],
   "source": [
    "digit_count = 0\n",
    "vowel_count = 0\n",
    "other_count = 0\n",
    "\n",
    "s = raw_input(\"Enter a string: \").strip()    # in Python 3, use \"input\" not \"raw_input\"\n",
    "\n",
    "for one_character in s:\n",
    "    if one_character.isdigit():\n",
    "        digit_count += 1\n",
    "    elif one_character in 'aeiou':\n",
    "        vowel_count += 1\n",
    "    else:\n",
    "        other_count += 1\n",
    "        \n",
    "print('digits {0}, vowels {1}, other {2}'.format(digit_count,\n",
    "                                                vowel_count,\n",
    "                                                other_count))"
   ]
  },
  {
   "cell_type": "code",
   "execution_count": 4,
   "metadata": {},
   "outputs": [
    {
     "name": "stdout",
     "output_type": "stream",
     "text": [
      "Hello!\n",
      "Hello!\n",
      "Hello!\n",
      "Hello!\n",
      "Hello!\n"
     ]
    }
   ],
   "source": [
    "print('Hello!')\n",
    "print('Hello!')\n",
    "print('Hello!')\n",
    "print('Hello!')\n",
    "print('Hello!')"
   ]
  },
  {
   "cell_type": "code",
   "execution_count": 6,
   "metadata": {},
   "outputs": [
    {
     "name": "stdout",
     "output_type": "stream",
     "text": [
      "Hello!\n",
      "Hello!\n",
      "Hello!\n",
      "Hello!\n",
      "Hello!\n"
     ]
    }
   ],
   "source": [
    "# DRY -- don't repeat yourself\n",
    "\n",
    "for counter in range(5):\n",
    "    print('Hello!')"
   ]
  },
  {
   "cell_type": "code",
   "execution_count": 7,
   "metadata": {
    "scrolled": true
   },
   "outputs": [
    {
     "name": "stdout",
     "output_type": "stream",
     "text": [
      "0: Hello!\n",
      "1: Hello!\n",
      "2: Hello!\n",
      "3: Hello!\n",
      "4: Hello!\n"
     ]
    }
   ],
   "source": [
    "for counter in range(5):\n",
    "    print('{0}: Hello!'.format(counter))"
   ]
  },
  {
   "cell_type": "code",
   "execution_count": 9,
   "metadata": {
    "scrolled": true
   },
   "outputs": [
    {
     "name": "stdout",
     "output_type": "stream",
     "text": [
      "5: Hello!\n",
      "6: Hello!\n",
      "7: Hello!\n",
      "8: Hello!\n",
      "9: Hello!\n"
     ]
    }
   ],
   "source": [
    "for counter in range(5,10):\n",
    "    print('{0}: Hello!'.format(counter))"
   ]
  },
  {
   "cell_type": "code",
   "execution_count": 10,
   "metadata": {
    "scrolled": false
   },
   "outputs": [
    {
     "name": "stdout",
     "output_type": "stream",
     "text": [
      "5: Hello!\n",
      "7: Hello!\n",
      "9: Hello!\n",
      "11: Hello!\n",
      "13: Hello!\n",
      "15: Hello!\n",
      "17: Hello!\n",
      "19: Hello!\n"
     ]
    }
   ],
   "source": [
    "for counter in range(5,20,2):\n",
    "    print('{0}: Hello!'.format(counter))"
   ]
  },
  {
   "cell_type": "code",
   "execution_count": null,
   "metadata": {},
   "outputs": [],
   "source": []
  },
  {
   "cell_type": "code",
   "execution_count": 8,
   "metadata": {},
   "outputs": [
    {
     "data": {
      "text/plain": [
       "'def'"
      ]
     },
     "execution_count": 8,
     "metadata": {},
     "output_type": "execute_result"
    }
   ],
   "source": [
    "s = 'abcdefghij'\n",
    "s[3:6]"
   ]
  },
  {
   "cell_type": "code",
   "execution_count": 11,
   "metadata": {},
   "outputs": [
    {
     "data": {
      "text/plain": [
       "'cf'"
      ]
     },
     "execution_count": 11,
     "metadata": {},
     "output_type": "execute_result"
    }
   ],
   "source": [
    "s[2:8:3]"
   ]
  },
  {
   "cell_type": "code",
   "execution_count": 12,
   "metadata": {},
   "outputs": [
    {
     "name": "stdout",
     "output_type": "stream",
     "text": [
      "0: a\n",
      "1: b\n",
      "2: c\n",
      "3: d\n",
      "4: e\n",
      "5: f\n",
      "6: g\n",
      "7: h\n",
      "8: i\n",
      "9: j\n"
     ]
    }
   ],
   "source": [
    "for i in range(len(s)):\n",
    "    print('{0}: {1}'.format(i, s[i]))"
   ]
  },
  {
   "cell_type": "code",
   "execution_count": 13,
   "metadata": {},
   "outputs": [
    {
     "name": "stdout",
     "output_type": "stream",
     "text": [
      "a\n",
      "b\n",
      "c\n",
      "d\n",
      "e\n",
      "f\n",
      "g\n",
      "h\n",
      "i\n",
      "j\n"
     ]
    }
   ],
   "source": [
    "for one_character in s:\n",
    "    print(one_character)"
   ]
  },
  {
   "cell_type": "code",
   "execution_count": 14,
   "metadata": {},
   "outputs": [
    {
     "name": "stdout",
     "output_type": "stream",
     "text": [
      "0, a\n",
      "1, b\n",
      "2, c\n",
      "3, d\n",
      "4, e\n",
      "5, f\n",
      "6, g\n",
      "7, h\n",
      "8, i\n",
      "9, j\n"
     ]
    }
   ],
   "source": [
    "for index, one_character in enumerate(s):\n",
    "    print('{0}, {1}'.format(index, one_character))"
   ]
  },
  {
   "cell_type": "code",
   "execution_count": null,
   "metadata": {},
   "outputs": [],
   "source": [
    "# # name triangle\n",
    "\n",
    "# Enter your name: Reuven\n",
    "    \n",
    "# R\n",
    "# Re\n",
    "# Reu\n",
    "# Reuv\n",
    "# Reuve\n",
    "# Reuven\n"
   ]
  },
  {
   "cell_type": "code",
   "execution_count": 18,
   "metadata": {},
   "outputs": [
    {
     "name": "stdout",
     "output_type": "stream",
     "text": [
      "R\n",
      "Re\n",
      "Reu\n",
      "Reuv\n",
      "Reuve\n",
      "Reuven\n"
     ]
    }
   ],
   "source": [
    "name = 'Reuven'\n",
    "\n",
    "for maxindex in range(len(name)):\n",
    "    print(name[:maxindex+1])\n",
    "\n"
   ]
  },
  {
   "cell_type": "code",
   "execution_count": 19,
   "metadata": {},
   "outputs": [
    {
     "name": "stdout",
     "output_type": "stream",
     "text": [
      "R\n",
      "Re\n",
      "Reu\n",
      "Reuv\n",
      "Reuve\n",
      "Reuven\n"
     ]
    }
   ],
   "source": [
    "name = 'Reuven'\n",
    "\n",
    "for maxindex in range(1, len(name) + 1):\n",
    "    print(name[:maxindex])\n",
    "\n"
   ]
  },
  {
   "cell_type": "code",
   "execution_count": 21,
   "metadata": {},
   "outputs": [
    {
     "name": "stdout",
     "output_type": "stream",
     "text": [
      "x = 5\n"
     ]
    }
   ],
   "source": [
    "x = 5\n",
    "if x > 0:\n",
    "    print('x = {0}'.format(x))"
   ]
  },
  {
   "cell_type": "code",
   "execution_count": 23,
   "metadata": {},
   "outputs": [
    {
     "name": "stdout",
     "output_type": "stream",
     "text": [
      "Start\n",
      "x = 5\n",
      "x = 4\n",
      "x = 3\n",
      "x = 2\n",
      "x = 1\n",
      "End\n"
     ]
    }
   ],
   "source": [
    "print(\"Start\")\n",
    "x = 5\n",
    "while x > 0:\n",
    "    print('x = {0}'.format(x))\n",
    "    x -= 1\n",
    "print(\"End\")"
   ]
  },
  {
   "cell_type": "code",
   "execution_count": 25,
   "metadata": {},
   "outputs": [
    {
     "name": "stdout",
     "output_type": "stream",
     "text": [
      "Hello, Reuven\n"
     ]
    }
   ],
   "source": [
    "name = 'Reuven'\n",
    "print('Hello, ' + name)"
   ]
  },
  {
   "cell_type": "code",
   "execution_count": 26,
   "metadata": {},
   "outputs": [
    {
     "data": {
      "text/plain": [
       "'Hello, Reuven'"
      ]
     },
     "execution_count": 26,
     "metadata": {},
     "output_type": "execute_result"
    }
   ],
   "source": [
    "'Hello, {0}'.format(name)\n",
    "\n",
    "\n"
   ]
  },
  {
   "cell_type": "code",
   "execution_count": 27,
   "metadata": {},
   "outputs": [
    {
     "ename": "SyntaxError",
     "evalue": "invalid syntax (<ipython-input-27-4448c731bc12>, line 1)",
     "output_type": "error",
     "traceback": [
      "\u001b[0;36m  File \u001b[0;32m\"<ipython-input-27-4448c731bc12>\"\u001b[0;36m, line \u001b[0;32m1\u001b[0m\n\u001b[0;31m    f'Hello, {name}'\u001b[0m\n\u001b[0m                   ^\u001b[0m\n\u001b[0;31mSyntaxError\u001b[0m\u001b[0;31m:\u001b[0m invalid syntax\n"
     ]
    }
   ],
   "source": [
    "f'Hello, {name}'"
   ]
  },
  {
   "cell_type": "code",
   "execution_count": 28,
   "metadata": {},
   "outputs": [
    {
     "name": "stdout",
     "output_type": "stream",
     "text": [
      "Enter your name: Reuven\n",
      "Hello, Reuven\n",
      "Enter your name: asdfadf\n",
      "Hello, asdfadf\n",
      "Enter your name: world\n",
      "Hello, world\n",
      "Enter your name: \n"
     ]
    }
   ],
   "source": [
    "while True:\n",
    "    s = raw_input(\"Enter your name: \").strip()\n",
    "    \n",
    "#     if s == '':\n",
    "#         break\n",
    "\n",
    "    if not s:   # if s is empty, leave the loop\n",
    "        break\n",
    "\n",
    "    print('Hello, {0}'.format(s))"
   ]
  },
  {
   "cell_type": "code",
   "execution_count": null,
   "metadata": {},
   "outputs": [],
   "source": [
    "# "
   ]
  }
 ],
 "metadata": {
  "kernelspec": {
   "display_name": "Python 2",
   "language": "python",
   "name": "python2"
  },
  "language_info": {
   "codemirror_mode": {
    "name": "ipython",
    "version": 2
   },
   "file_extension": ".py",
   "mimetype": "text/x-python",
   "name": "python",
   "nbconvert_exporter": "python",
   "pygments_lexer": "ipython2",
   "version": "2.7.16"
  }
 },
 "nbformat": 4,
 "nbformat_minor": 2
}
