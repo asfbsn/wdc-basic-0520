{
 "cells": [
  {
   "cell_type": "code",
   "execution_count": 1,
   "metadata": {},
   "outputs": [],
   "source": [
    "# Ask the user to enter a string. Report to the user:\n",
    "# - The number of digits (0-9)\n",
    "# - The number of vowels\n",
    "# - The number of other characters \n"
   ]
  },
  {
   "cell_type": "code",
   "execution_count": 3,
   "metadata": {},
   "outputs": [
    {
     "name": "stdout",
     "output_type": "stream",
     "text": [
      "Enter a string: today is the 17th of May!\n",
      "digits 2, vowels 6, other 17\n"
     ]
    }
   ],
   "source": [
    "digit_count = 0\n",
    "vowel_count = 0\n",
    "other_count = 0\n",
    "\n",
    "s = raw_input(\"Enter a string: \").strip()    # in Python 3, use \"input\" not \"raw_input\"\n",
    "\n",
    "for one_character in s:\n",
    "    if one_character.isdigit():\n",
    "        digit_count += 1\n",
    "    elif one_character in 'aeiou':\n",
    "        vowel_count += 1\n",
    "    else:\n",
    "        other_count += 1\n",
    "        \n",
    "print('digits {0}, vowels {1}, other {2}'.format(digit_count,\n",
    "                                                vowel_count,\n",
    "                                                other_count))"
   ]
  },
  {
   "cell_type": "code",
   "execution_count": 4,
   "metadata": {},
   "outputs": [
    {
     "name": "stdout",
     "output_type": "stream",
     "text": [
      "Hello!\n",
      "Hello!\n",
      "Hello!\n",
      "Hello!\n",
      "Hello!\n"
     ]
    }
   ],
   "source": [
    "print('Hello!')\n",
    "print('Hello!')\n",
    "print('Hello!')\n",
    "print('Hello!')\n",
    "print('Hello!')"
   ]
  },
  {
   "cell_type": "code",
   "execution_count": 6,
   "metadata": {},
   "outputs": [
    {
     "name": "stdout",
     "output_type": "stream",
     "text": [
      "Hello!\n",
      "Hello!\n",
      "Hello!\n",
      "Hello!\n",
      "Hello!\n"
     ]
    }
   ],
   "source": [
    "# DRY -- don't repeat yourself\n",
    "\n",
    "for counter in range(5):\n",
    "    print('Hello!')"
   ]
  },
  {
   "cell_type": "code",
   "execution_count": 7,
   "metadata": {
    "scrolled": true
   },
   "outputs": [
    {
     "name": "stdout",
     "output_type": "stream",
     "text": [
      "0: Hello!\n",
      "1: Hello!\n",
      "2: Hello!\n",
      "3: Hello!\n",
      "4: Hello!\n"
     ]
    }
   ],
   "source": [
    "for counter in range(5):\n",
    "    print('{0}: Hello!'.format(counter))"
   ]
  },
  {
   "cell_type": "code",
   "execution_count": 9,
   "metadata": {
    "scrolled": true
   },
   "outputs": [
    {
     "name": "stdout",
     "output_type": "stream",
     "text": [
      "5: Hello!\n",
      "6: Hello!\n",
      "7: Hello!\n",
      "8: Hello!\n",
      "9: Hello!\n"
     ]
    }
   ],
   "source": [
    "for counter in range(5,10):\n",
    "    print('{0}: Hello!'.format(counter))"
   ]
  },
  {
   "cell_type": "code",
   "execution_count": 10,
   "metadata": {
    "scrolled": false
   },
   "outputs": [
    {
     "name": "stdout",
     "output_type": "stream",
     "text": [
      "5: Hello!\n",
      "7: Hello!\n",
      "9: Hello!\n",
      "11: Hello!\n",
      "13: Hello!\n",
      "15: Hello!\n",
      "17: Hello!\n",
      "19: Hello!\n"
     ]
    }
   ],
   "source": [
    "for counter in range(5,20,2):\n",
    "    print('{0}: Hello!'.format(counter))"
   ]
  },
  {
   "cell_type": "code",
   "execution_count": null,
   "metadata": {},
   "outputs": [],
   "source": []
  },
  {
   "cell_type": "code",
   "execution_count": 8,
   "metadata": {},
   "outputs": [
    {
     "data": {
      "text/plain": [
       "'def'"
      ]
     },
     "execution_count": 8,
     "metadata": {},
     "output_type": "execute_result"
    }
   ],
   "source": [
    "s = 'abcdefghij'\n",
    "s[3:6]"
   ]
  },
  {
   "cell_type": "code",
   "execution_count": 11,
   "metadata": {},
   "outputs": [
    {
     "data": {
      "text/plain": [
       "'cf'"
      ]
     },
     "execution_count": 11,
     "metadata": {},
     "output_type": "execute_result"
    }
   ],
   "source": [
    "s[2:8:3]"
   ]
  },
  {
   "cell_type": "code",
   "execution_count": 12,
   "metadata": {},
   "outputs": [
    {
     "name": "stdout",
     "output_type": "stream",
     "text": [
      "0: a\n",
      "1: b\n",
      "2: c\n",
      "3: d\n",
      "4: e\n",
      "5: f\n",
      "6: g\n",
      "7: h\n",
      "8: i\n",
      "9: j\n"
     ]
    }
   ],
   "source": [
    "for i in range(len(s)):\n",
    "    print('{0}: {1}'.format(i, s[i]))"
   ]
  },
  {
   "cell_type": "code",
   "execution_count": 13,
   "metadata": {},
   "outputs": [
    {
     "name": "stdout",
     "output_type": "stream",
     "text": [
      "a\n",
      "b\n",
      "c\n",
      "d\n",
      "e\n",
      "f\n",
      "g\n",
      "h\n",
      "i\n",
      "j\n"
     ]
    }
   ],
   "source": [
    "for one_character in s:\n",
    "    print(one_character)"
   ]
  },
  {
   "cell_type": "code",
   "execution_count": 14,
   "metadata": {},
   "outputs": [
    {
     "name": "stdout",
     "output_type": "stream",
     "text": [
      "0, a\n",
      "1, b\n",
      "2, c\n",
      "3, d\n",
      "4, e\n",
      "5, f\n",
      "6, g\n",
      "7, h\n",
      "8, i\n",
      "9, j\n"
     ]
    }
   ],
   "source": [
    "for index, one_character in enumerate(s):\n",
    "    print('{0}, {1}'.format(index, one_character))"
   ]
  },
  {
   "cell_type": "code",
   "execution_count": null,
   "metadata": {},
   "outputs": [],
   "source": [
    "# name triangle\n",
    "\n",
    "Enter your name: Reuven\n",
    "    \n",
    "R\n",
    "Re\n",
    "Reu\n",
    "Reuv\n",
    "Reuve\n",
    "Reuven\n"
   ]
  }
 ],
 "metadata": {
  "kernelspec": {
   "display_name": "Python 2",
   "language": "python",
   "name": "python2"
  },
  "language_info": {
   "codemirror_mode": {
    "name": "ipython",
    "version": 2
   },
   "file_extension": ".py",
   "mimetype": "text/x-python",
   "name": "python",
   "nbconvert_exporter": "python",
   "pygments_lexer": "ipython2",
   "version": "2.7.16"
  }
 },
 "nbformat": 4,
 "nbformat_minor": 2
}
