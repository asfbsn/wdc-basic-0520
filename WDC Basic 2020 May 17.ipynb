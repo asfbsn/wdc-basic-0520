{
 "cells": [
  {
   "cell_type": "code",
   "execution_count": 1,
   "metadata": {},
   "outputs": [],
   "source": [
    "# Ask the user to enter a string. Report to the user:\n",
    "# - The number of digits (0-9)\n",
    "# - The number of vowels\n",
    "# - The number of other characters \n"
   ]
  },
  {
   "cell_type": "code",
   "execution_count": 3,
   "metadata": {},
   "outputs": [
    {
     "name": "stdout",
     "output_type": "stream",
     "text": [
      "Enter a string: today is the 17th of May!\n",
      "digits 2, vowels 6, other 17\n"
     ]
    }
   ],
   "source": [
    "digit_count = 0\n",
    "vowel_count = 0\n",
    "other_count = 0\n",
    "\n",
    "s = raw_input(\"Enter a string: \").strip()    # in Python 3, use \"input\" not \"raw_input\"\n",
    "\n",
    "for one_character in s:\n",
    "    if one_character.isdigit():\n",
    "        digit_count += 1\n",
    "    elif one_character in 'aeiou':\n",
    "        vowel_count += 1\n",
    "    else:\n",
    "        other_count += 1\n",
    "        \n",
    "print('digits {0}, vowels {1}, other {2}'.format(digit_count,\n",
    "                                                vowel_count,\n",
    "                                                other_count))"
   ]
  },
  {
   "cell_type": "code",
   "execution_count": 4,
   "metadata": {},
   "outputs": [
    {
     "name": "stdout",
     "output_type": "stream",
     "text": [
      "Hello!\n",
      "Hello!\n",
      "Hello!\n",
      "Hello!\n",
      "Hello!\n"
     ]
    }
   ],
   "source": [
    "print('Hello!')\n",
    "print('Hello!')\n",
    "print('Hello!')\n",
    "print('Hello!')\n",
    "print('Hello!')"
   ]
  },
  {
   "cell_type": "code",
   "execution_count": 6,
   "metadata": {},
   "outputs": [
    {
     "name": "stdout",
     "output_type": "stream",
     "text": [
      "Hello!\n",
      "Hello!\n",
      "Hello!\n",
      "Hello!\n",
      "Hello!\n"
     ]
    }
   ],
   "source": [
    "# DRY -- don't repeat yourself\n",
    "\n",
    "for counter in range(5):\n",
    "    print('Hello!')"
   ]
  },
  {
   "cell_type": "code",
   "execution_count": 7,
   "metadata": {},
   "outputs": [
    {
     "name": "stdout",
     "output_type": "stream",
     "text": [
      "0: Hello!\n",
      "1: Hello!\n",
      "2: Hello!\n",
      "3: Hello!\n",
      "4: Hello!\n"
     ]
    }
   ],
   "source": [
    "for counter in range(5):\n",
    "    print('{0}: Hello!'.format(counter))"
   ]
  },
  {
   "cell_type": "code",
   "execution_count": null,
   "metadata": {},
   "outputs": [],
   "source": []
  }
 ],
 "metadata": {
  "kernelspec": {
   "display_name": "Python 2",
   "language": "python",
   "name": "python2"
  },
  "language_info": {
   "codemirror_mode": {
    "name": "ipython",
    "version": 2
   },
   "file_extension": ".py",
   "mimetype": "text/x-python",
   "name": "python",
   "nbconvert_exporter": "python",
   "pygments_lexer": "ipython2",
   "version": "2.7.16"
  }
 },
 "nbformat": 4,
 "nbformat_minor": 2
}
